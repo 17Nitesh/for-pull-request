{
 "cells": [
  {
   "cell_type": "markdown",
   "id": "e068668d",
   "metadata": {},
   "source": [
    "Write a Python script using selenium that goes to google.com, searches for the keyword \"Internshala\" and outputs a CSV containing all the search results including URL, description, and other details."
   ]
  },
  {
   "cell_type": "code",
   "execution_count": 1,
   "id": "9ca417a8",
   "metadata": {},
   "outputs": [],
   "source": [
    "# Importing the necessary files\n",
    "from selenium import webdriver     \n",
    "from selenium.webdriver.common.by import By          \n",
    "\n",
    "import csv                         "
   ]
  },
  {
   "cell_type": "code",
   "execution_count": 2,
   "id": "ae047a22",
   "metadata": {},
   "outputs": [],
   "source": [
    "# Setting up Chrome webdriver in Selenium \n",
    "chrome_options = webdriver.ChromeOptions()\n",
    "driver = webdriver.Chrome(options=chrome_options)"
   ]
  },
  {
   "cell_type": "code",
   "execution_count": 3,
   "id": "af76e912",
   "metadata": {},
   "outputs": [],
   "source": [
    "# Open Google and perform a search for \"Internshala\"\n",
    "query = \"Internshala\"\n",
    "driver.get(\"https://www.google.com/\")\n",
    "\n",
    "search_box = driver.find_element(\"name\", \"q\")\n",
    "search_box.send_keys(query)\n",
    "search_box.submit()\n",
    "\n",
    "# Wait for the search results to load\n",
    "driver.implicitly_wait(5) "
   ]
  },
  {
   "cell_type": "code",
   "execution_count": 4,
   "id": "41fb4b9b",
   "metadata": {
    "scrolled": true
   },
   "outputs": [],
   "source": [
    "# Extract search results\n",
    "results = driver.find_elements(By.CLASS_NAME,value='MjjYud')\n",
    "\n",
    "data = []\n",
    "\n",
    "for result in results:\n",
    "    try:\n",
    "        url = result.find_element(By.CSS_SELECTOR,value=\"a\").get_attribute('href')\n",
    "        desc = result.find_element(By.CSS_SELECTOR,value=\"div.VwiC3b.yXK7lf.lyLwlc.yDYNvb.W8l4ac.lEBKkf\").text\n",
    "        title = result.find_element(By.CSS_SELECTOR,value=\"h3.LC20lb.MBeuO.DKV0Md\").text\n",
    "        \n",
    "    except Exception as e:\n",
    "            pass  \n",
    "        \n",
    "    data.append({\n",
    "        'URL': url,\n",
    "        'Description': desc,\n",
    "        'Title': title\n",
    "    })\n"
   ]
  },
  {
   "cell_type": "code",
   "execution_count": 5,
   "id": "76f13774",
   "metadata": {
    "scrolled": true
   },
   "outputs": [],
   "source": [
    "# Saving data to CSV\n",
    "csv_file = 'internshala_search_results.csv'\n",
    "with open(csv_file, 'w', newline='', encoding='utf-8') as file:\n",
    "    writer = csv.DictWriter(file, fieldnames=['URL', 'Description', 'Title'])\n",
    "    writer.writeheader()\n",
    "    writer.writerows(data)"
   ]
  },
  {
   "cell_type": "code",
   "execution_count": 6,
   "id": "260f4ac8",
   "metadata": {},
   "outputs": [
    {
     "name": "stdout",
     "output_type": "stream",
     "text": [
      "Search results saved to internshala_search_results.csv file\n"
     ]
    }
   ],
   "source": [
    "# Close the WebDriver\n",
    "driver.quit()\n",
    "\n",
    "print(f\"Search results saved to {csv_file} file\")"
   ]
  }
 ],
 "metadata": {
  "kernelspec": {
   "display_name": "Python 3 (ipykernel)",
   "language": "python",
   "name": "python3"
  },
  "language_info": {
   "codemirror_mode": {
    "name": "ipython",
    "version": 3
   },
   "file_extension": ".py",
   "mimetype": "text/x-python",
   "name": "python",
   "nbconvert_exporter": "python",
   "pygments_lexer": "ipython3",
   "version": "3.9.12"
  }
 },
 "nbformat": 4,
 "nbformat_minor": 5
}
