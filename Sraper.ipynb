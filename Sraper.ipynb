{
 "cells": [
  {
   "cell_type": "code",
   "execution_count": 2,
   "metadata": {},
   "outputs": [],
   "source": [
    "import pandas as pd\n",
    "from selenium.webdriver.common.by import By\n",
    "from selenium.webdriver.common.keys import Keys\n",
    "from selenium.webdriver import Chrome\n",
    "import time"
   ]
  },
  {
   "cell_type": "code",
   "execution_count": 7,
   "metadata": {},
   "outputs": [
    {
     "name": "stdout",
     "output_type": "stream",
     "text": [
      "[INFO]: connection established\n"
     ]
    },
    {
     "ename": "NoSuchWindowException",
     "evalue": "Message: no such window: target window already closed\nfrom unknown error: web view not found\n  (Session info: chrome=119.0.6045.105)\nStacktrace:\n\tGetHandleVerifier [0x00007FF74FF582B2+55298]\n\t(No symbol) [0x00007FF74FEC5E02]\n\t(No symbol) [0x00007FF74FD805AB]\n\t(No symbol) [0x00007FF74FD60038]\n\t(No symbol) [0x00007FF74FDE6BC7]\n\t(No symbol) [0x00007FF74FDFA15F]\n\t(No symbol) [0x00007FF74FDE1E83]\n\t(No symbol) [0x00007FF74FDB670A]\n\t(No symbol) [0x00007FF74FDB7964]\n\tGetHandleVerifier [0x00007FF7502D0AAB+3694587]\n\tGetHandleVerifier [0x00007FF75032728E+4048862]\n\tGetHandleVerifier [0x00007FF75031F173+4015811]\n\tGetHandleVerifier [0x00007FF74FFF47D6+695590]\n\t(No symbol) [0x00007FF74FED0CE8]\n\t(No symbol) [0x00007FF74FECCF34]\n\t(No symbol) [0x00007FF74FECD062]\n\t(No symbol) [0x00007FF74FEBD3A3]\n\tBaseThreadInitThunk [0x00007FF92CB4257D+29]\n\tRtlUserThreadStart [0x00007FF92DA0AA58+40]\n",
     "output_type": "error",
     "traceback": [
      "\u001b[1;31m---------------------------------------------------------------------------\u001b[0m",
      "\u001b[1;31mNoSuchWindowException\u001b[0m                     Traceback (most recent call last)",
      "\u001b[1;32mc:\\Users\\bhupe\\OneDrive\\Desktop\\Internship\\Sraper.ipynb Cell 2\u001b[0m line \u001b[0;36m5\n\u001b[0;32m     <a href='vscode-notebook-cell:/c%3A/Users/bhupe/OneDrive/Desktop/Internship/Sraper.ipynb#W1sZmlsZQ%3D%3D?line=50'>51</a>\u001b[0m \u001b[39mif\u001b[39;00m \u001b[39m__name__\u001b[39m \u001b[39m==\u001b[39m \u001b[39m'\u001b[39m\u001b[39m__main__\u001b[39m\u001b[39m'\u001b[39m:\n\u001b[0;32m     <a href='vscode-notebook-cell:/c%3A/Users/bhupe/OneDrive/Desktop/Internship/Sraper.ipynb#W1sZmlsZQ%3D%3D?line=51'>52</a>\u001b[0m     query \u001b[39m=\u001b[39m \u001b[39m'\u001b[39m\u001b[39mInternship\u001b[39m\u001b[39m'\u001b[39m\n\u001b[1;32m---> <a href='vscode-notebook-cell:/c%3A/Users/bhupe/OneDrive/Desktop/Internship/Sraper.ipynb#W1sZmlsZQ%3D%3D?line=52'>53</a>\u001b[0m     obj \u001b[39m=\u001b[39m getsearchresult(query)\n\u001b[0;32m     <a href='vscode-notebook-cell:/c%3A/Users/bhupe/OneDrive/Desktop/Internship/Sraper.ipynb#W1sZmlsZQ%3D%3D?line=53'>54</a>\u001b[0m     obj\u001b[39m.\u001b[39mto_csv(\u001b[39m'\u001b[39m\u001b[39m./search_result.csv\u001b[39m\u001b[39m'\u001b[39m)\n",
      "\u001b[1;32mc:\\Users\\bhupe\\OneDrive\\Desktop\\Internship\\Sraper.ipynb Cell 2\u001b[0m line \u001b[0;36m1\n\u001b[0;32m      <a href='vscode-notebook-cell:/c%3A/Users/bhupe/OneDrive/Desktop/Internship/Sraper.ipynb#W1sZmlsZQ%3D%3D?line=8'>9</a>\u001b[0m \u001b[39mprint\u001b[39m(\u001b[39m'\u001b[39m\u001b[39m[INFO]: connection established\u001b[39m\u001b[39m'\u001b[39m)\n\u001b[0;32m     <a href='vscode-notebook-cell:/c%3A/Users/bhupe/OneDrive/Desktop/Internship/Sraper.ipynb#W1sZmlsZQ%3D%3D?line=10'>11</a>\u001b[0m \u001b[39mfor\u001b[39;00m _ \u001b[39min\u001b[39;00m \u001b[39mrange\u001b[39m(n_scrolls):\n\u001b[1;32m---> <a href='vscode-notebook-cell:/c%3A/Users/bhupe/OneDrive/Desktop/Internship/Sraper.ipynb#W1sZmlsZQ%3D%3D?line=11'>12</a>\u001b[0m     \u001b[39mself\u001b[39;49m\u001b[39m.\u001b[39;49m_scroll_page()\n\u001b[0;32m     <a href='vscode-notebook-cell:/c%3A/Users/bhupe/OneDrive/Desktop/Internship/Sraper.ipynb#W1sZmlsZQ%3D%3D?line=13'>14</a>\u001b[0m \u001b[39mself\u001b[39m\u001b[39m.\u001b[39m_extract_info()\n",
      "\u001b[1;32mc:\\Users\\bhupe\\OneDrive\\Desktop\\Internship\\Sraper.ipynb Cell 2\u001b[0m line \u001b[0;36m1\n\u001b[0;32m     <a href='vscode-notebook-cell:/c%3A/Users/bhupe/OneDrive/Desktop/Internship/Sraper.ipynb#W1sZmlsZQ%3D%3D?line=15'>16</a>\u001b[0m \u001b[39mdef\u001b[39;00m \u001b[39m_scroll_page\u001b[39m(\u001b[39mself\u001b[39m):\n\u001b[1;32m---> <a href='vscode-notebook-cell:/c%3A/Users/bhupe/OneDrive/Desktop/Internship/Sraper.ipynb#W1sZmlsZQ%3D%3D?line=16'>17</a>\u001b[0m     body \u001b[39m=\u001b[39m \u001b[39mself\u001b[39;49m\u001b[39m.\u001b[39;49mdriver\u001b[39m.\u001b[39;49mfind_element(By\u001b[39m.\u001b[39;49mTAG_NAME,value\u001b[39m=\u001b[39;49m\u001b[39m\"\u001b[39;49m\u001b[39mbody\u001b[39;49m\u001b[39m\"\u001b[39;49m)\n\u001b[0;32m     <a href='vscode-notebook-cell:/c%3A/Users/bhupe/OneDrive/Desktop/Internship/Sraper.ipynb#W1sZmlsZQ%3D%3D?line=17'>18</a>\u001b[0m     body\u001b[39m.\u001b[39msend_keys(Keys\u001b[39m.\u001b[39mEND)\n\u001b[0;32m     <a href='vscode-notebook-cell:/c%3A/Users/bhupe/OneDrive/Desktop/Internship/Sraper.ipynb#W1sZmlsZQ%3D%3D?line=18'>19</a>\u001b[0m     time\u001b[39m.\u001b[39msleep(\u001b[39m2\u001b[39m)\n",
      "File \u001b[1;32m~\\AppData\\Roaming\\Python\\Python312\\site-packages\\selenium\\webdriver\\remote\\webdriver.py:741\u001b[0m, in \u001b[0;36mWebDriver.find_element\u001b[1;34m(self, by, value)\u001b[0m\n\u001b[0;32m    738\u001b[0m     by \u001b[39m=\u001b[39m By\u001b[39m.\u001b[39mCSS_SELECTOR\n\u001b[0;32m    739\u001b[0m     value \u001b[39m=\u001b[39m \u001b[39mf\u001b[39m\u001b[39m'\u001b[39m\u001b[39m[name=\u001b[39m\u001b[39m\"\u001b[39m\u001b[39m{\u001b[39;00mvalue\u001b[39m}\u001b[39;00m\u001b[39m\"\u001b[39m\u001b[39m]\u001b[39m\u001b[39m'\u001b[39m\n\u001b[1;32m--> 741\u001b[0m \u001b[39mreturn\u001b[39;00m \u001b[39mself\u001b[39;49m\u001b[39m.\u001b[39;49mexecute(Command\u001b[39m.\u001b[39;49mFIND_ELEMENT, {\u001b[39m\"\u001b[39;49m\u001b[39musing\u001b[39;49m\u001b[39m\"\u001b[39;49m: by, \u001b[39m\"\u001b[39;49m\u001b[39mvalue\u001b[39;49m\u001b[39m\"\u001b[39;49m: value})[\u001b[39m\"\u001b[39m\u001b[39mvalue\u001b[39m\u001b[39m\"\u001b[39m]\n",
      "File \u001b[1;32m~\\AppData\\Roaming\\Python\\Python312\\site-packages\\selenium\\webdriver\\remote\\webdriver.py:347\u001b[0m, in \u001b[0;36mWebDriver.execute\u001b[1;34m(self, driver_command, params)\u001b[0m\n\u001b[0;32m    345\u001b[0m response \u001b[39m=\u001b[39m \u001b[39mself\u001b[39m\u001b[39m.\u001b[39mcommand_executor\u001b[39m.\u001b[39mexecute(driver_command, params)\n\u001b[0;32m    346\u001b[0m \u001b[39mif\u001b[39;00m response:\n\u001b[1;32m--> 347\u001b[0m     \u001b[39mself\u001b[39;49m\u001b[39m.\u001b[39;49merror_handler\u001b[39m.\u001b[39;49mcheck_response(response)\n\u001b[0;32m    348\u001b[0m     response[\u001b[39m\"\u001b[39m\u001b[39mvalue\u001b[39m\u001b[39m\"\u001b[39m] \u001b[39m=\u001b[39m \u001b[39mself\u001b[39m\u001b[39m.\u001b[39m_unwrap_value(response\u001b[39m.\u001b[39mget(\u001b[39m\"\u001b[39m\u001b[39mvalue\u001b[39m\u001b[39m\"\u001b[39m, \u001b[39mNone\u001b[39;00m))\n\u001b[0;32m    349\u001b[0m     \u001b[39mreturn\u001b[39;00m response\n",
      "File \u001b[1;32m~\\AppData\\Roaming\\Python\\Python312\\site-packages\\selenium\\webdriver\\remote\\errorhandler.py:229\u001b[0m, in \u001b[0;36mErrorHandler.check_response\u001b[1;34m(self, response)\u001b[0m\n\u001b[0;32m    227\u001b[0m         alert_text \u001b[39m=\u001b[39m value[\u001b[39m\"\u001b[39m\u001b[39malert\u001b[39m\u001b[39m\"\u001b[39m]\u001b[39m.\u001b[39mget(\u001b[39m\"\u001b[39m\u001b[39mtext\u001b[39m\u001b[39m\"\u001b[39m)\n\u001b[0;32m    228\u001b[0m     \u001b[39mraise\u001b[39;00m exception_class(message, screen, stacktrace, alert_text)  \u001b[39m# type: ignore[call-arg]  # mypy is not smart enough here\u001b[39;00m\n\u001b[1;32m--> 229\u001b[0m \u001b[39mraise\u001b[39;00m exception_class(message, screen, stacktrace)\n",
      "\u001b[1;31mNoSuchWindowException\u001b[0m: Message: no such window: target window already closed\nfrom unknown error: web view not found\n  (Session info: chrome=119.0.6045.105)\nStacktrace:\n\tGetHandleVerifier [0x00007FF74FF582B2+55298]\n\t(No symbol) [0x00007FF74FEC5E02]\n\t(No symbol) [0x00007FF74FD805AB]\n\t(No symbol) [0x00007FF74FD60038]\n\t(No symbol) [0x00007FF74FDE6BC7]\n\t(No symbol) [0x00007FF74FDFA15F]\n\t(No symbol) [0x00007FF74FDE1E83]\n\t(No symbol) [0x00007FF74FDB670A]\n\t(No symbol) [0x00007FF74FDB7964]\n\tGetHandleVerifier [0x00007FF7502D0AAB+3694587]\n\tGetHandleVerifier [0x00007FF75032728E+4048862]\n\tGetHandleVerifier [0x00007FF75031F173+4015811]\n\tGetHandleVerifier [0x00007FF74FFF47D6+695590]\n\t(No symbol) [0x00007FF74FED0CE8]\n\t(No symbol) [0x00007FF74FECCF34]\n\t(No symbol) [0x00007FF74FECD062]\n\t(No symbol) [0x00007FF74FEBD3A3]\n\tBaseThreadInitThunk [0x00007FF92CB4257D+29]\n\tRtlUserThreadStart [0x00007FF92DA0AA58+40]\n"
     ]
    }
   ],
   "source": [
    "class getsearchresult:\n",
    "\n",
    "    def __init__(self,query: str,n_scrolls: int = 5) -> None:        \n",
    "        self.driver = Chrome()\n",
    "        self.title = []\n",
    "        self.url = []\n",
    "        self.description = []\n",
    "        self.driver.get(f'https://www.google.com/search?q={query}')\n",
    "        print('[INFO]: connection established')\n",
    "\n",
    "        for _ in range(n_scrolls):\n",
    "            self._scroll_page()\n",
    "\n",
    "        self._extract_info()\n",
    "\n",
    "    def _scroll_page(self):\n",
    "        body = self.driver.find_element(By.TAG_NAME,value=\"body\")\n",
    "        body.send_keys(Keys.END)\n",
    "        time.sleep(2)\n",
    "\n",
    "    def _extract_info(self):\n",
    "        self.results = self.driver.find_element(By.ID, value='main')\n",
    "        html_elements = self.results.find_elements(By.CLASS_NAME,value='bhupender')\n",
    "\n",
    "        for element in html_elements:\n",
    "            try:\n",
    "                heading = element.find_element(By.CSS_SELECTOR,value=\"h3.LC20lb.MBeuO.DKV0Md\")\n",
    "                des = element.find_element(By.CSS_SELECTOR,value=\"div.VwiC3b.yXK7lf.lyLwlc.yDYNvb.W8l4ac.lEBKkf\")\n",
    "                link = element.find_element(By.CSS_SELECTOR,value=\"a\").get_attribute('href')\n",
    "                self.title.append(heading.text)\n",
    "                self.description.append(des.text)\n",
    "                self.url.append(link)\n",
    "\n",
    "            except Exception as e:\n",
    "                pass\n",
    "\n",
    "        print('information Extract')\n",
    "        self.driver.quit()\n",
    "        print(' closing connection')\n",
    "\n",
    "    def to_csv(self,file_path):\n",
    "        self.data_dict = {\n",
    "            'Title': self.title,\n",
    "            'Description': self.description,\n",
    "            'URL': self.url\n",
    "        }\n",
    "        dataframe = pd.DataFrame(data=self.data_dict)\n",
    "        dataframe.to_csv(file_path,index=False)\n",
    "        print('[INFO]: csv file created')\n",
    "\n",
    "if __name__ == '__main__':\n",
    "    query = 'Internship'\n",
    "    obj = getsearchresult(query)\n",
    "    obj.to_csv('./search_result.csv')"
   ]
  }
 ],
 "metadata": {
  "kernelspec": {
   "display_name": "Python 3",
   "language": "python",
   "name": "python3"
  },
  "language_info": {
   "codemirror_mode": {
    "name": "ipython",
    "version": 3
   },
   "file_extension": ".py",
   "mimetype": "text/x-python",
   "name": "python",
   "nbconvert_exporter": "python",
   "pygments_lexer": "ipython3",
   "version": "3.12.0"
  }
 },
 "nbformat": 4,
 "nbformat_minor": 2
}
